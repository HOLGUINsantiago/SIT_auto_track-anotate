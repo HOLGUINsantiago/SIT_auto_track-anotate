{
 "cells": [
  {
   "cell_type": "markdown",
   "id": "7d78ba34",
   "metadata": {},
   "source": [
    "# SIT automatic behaviour detection pipeline\n",
    "## By Santiago Holguin Urbano\n",
    "\n",
    "This pipeline allows to identify different behaviours of two B6 mice. The detected behaviuors are : Contact by host, Contact by visitor, Follow by host, Follow by visitor,Paw control (host), Rearing (host), and Grooming (host).\n",
    "\n",
    "This pipeline can be used with pretrained models on videos at the following format : \n",
    "[image-2.png](attachment:image-2.png)\n",
    "\n",
    "But the different tools used can be adapated for different format and different behaviours. If you're working with CD1 mice or with a very different environment, we suggest you to retrain all the models by following each method documentation. You need at least 600 annotated frames for tracking, and at least 9k annotated frames per beahaviour for behaviuor estimation."
   ]
  },
  {
   "cell_type": "markdown",
   "id": "f14bd2f7",
   "metadata": {},
   "source": [
    "## 1. Tracking videos"
   ]
  },
  {
   "cell_type": "code",
   "execution_count": null,
   "id": "7939471f",
   "metadata": {},
   "outputs": [],
   "source": [
    "import os\n",
    "from pathlib import Path\n",
    "import subprocess\n",
    "import sys\n",
    "\n",
    "# === Configuración de variables ===\n",
    "MODEL_centroid_PATH = r\"D:\\SIT_auto\\SLEAP_track\\models\\250702_114533.centroid.n=765\"\n",
    "MODEL_centered_instance_PATH = r\"D:\\SIT_auto\\SLEAP_track\\models\\250702_132640.centered_instance.n=765\"\n",
    "\n",
    "VIDEOS_FOLDER = Path(r\"D:\\SIT_auto\\for_tracking\")\n",
    "OUTPUT_FOLDER = r\"D:\\SIT_auto\\tracked_videos\"\n",
    "MAX_INSTANCES = 2\n",
    "MAX_TRACKS = 2\n",
    "\n",
    "# Crear carpeta de salida si no existe\n",
    "Path(OUTPUT_FOLDER).mkdir(parents=True, exist_ok=True)\n",
    "\n",
    "# === Procesar cada video individualmente ===\n",
    "for video_file in VIDEOS_FOLDER.glob(\"*.mp4\"):\n",
    "    print(f\"\\nProcesando: {video_file.name}\")\n",
    "\n",
    "    command = (\n",
    "        f'sleap-track '\n",
    "        f'-m \"{MODEL_centroid_PATH}\" '\n",
    "        f'-m \"{MODEL_centered_instance_PATH}\" '\n",
    "        f'--tracking.tracker flowmaxtracks '\n",
    "        f'--tracking.similarity centroid '\n",
    "        f'--tracking.match hungarian '\n",
    "        f'--tracking.max_tracking 1 '\n",
    "        f'--tracking.max_tracks {MAX_TRACKS} '\n",
    "        f'-n {MAX_INSTANCES} '\n",
    "        f'-o \"{OUTPUT_FOLDER}\\{video_file.stem}\" '\n",
    "        f'\"{video_file}\"'\n",
    "    )\n",
    "\n",
    "    print(\"Comando a ejecutar:\")\n",
    "    print(command)\n",
    "\n",
    "    result = subprocess.run(command, shell=True, capture_output=True, text=True)\n",
    "\n",
    "    print(result.stdout)\n",
    "    print(result.stderr)\n"
   ]
  },
  {
   "cell_type": "markdown",
   "id": "fdcbb1a3",
   "metadata": {},
   "source": [
    "# 2. Correcting tracking errors (Red = resident)"
   ]
  },
  {
   "cell_type": "code",
   "execution_count": null,
   "id": "3f610c23",
   "metadata": {},
   "outputs": [],
   "source": [
    "!conda run -n sleap_andGUI python correcting_sleap_errors.py"
   ]
  }
 ],
 "metadata": {
  "kernelspec": {
   "display_name": "robust_analysis",
   "language": "python",
   "name": "python3"
  },
  "language_info": {
   "codemirror_mode": {
    "name": "ipython",
    "version": 3
   },
   "file_extension": ".py",
   "mimetype": "text/x-python",
   "name": "python",
   "nbconvert_exporter": "python",
   "pygments_lexer": "ipython3",
   "version": "3.8.20"
  }
 },
 "nbformat": 4,
 "nbformat_minor": 5
}
