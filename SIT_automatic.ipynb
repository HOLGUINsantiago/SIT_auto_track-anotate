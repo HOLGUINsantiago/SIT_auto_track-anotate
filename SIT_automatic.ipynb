{
 "cells": [
  {
   "cell_type": "markdown",
   "id": "7d78ba34",
   "metadata": {},
   "source": [
    "# SIT automatic behaviour detection pipeline (sleap-no-Gui kernel)\n",
    "## By Santiago Holguin Urbano\n",
    "\n",
    "This pipeline allows to identify different behaviours of two B6 mice. The detected behaviuors are : Contact by host, Contact by visitor, Follow by host, Follow by visitor,Paw control (host), Rearing (host), and Grooming (host).\n",
    "\n",
    "This pipeline can be used with pretrained models on videos at the following format : \n",
    "[image-2.png](attachment:image-2.png)\n",
    "\n",
    "But the different tools used can be adapated for different format and different behaviours. If you're working with CD1 mice or with a very different environment, we suggest you to retrain all the models by following each method documentation. You need at least 600 annotated frames for tracking, and at least 9k annotated frames per beahaviour for behaviuor estimation."
   ]
  },
  {
   "cell_type": "markdown",
   "id": "f14bd2f7",
   "metadata": {},
   "source": [
    "## 1. Tracking videos \n",
    "Make sur to be working on the project **ROOT**,  and to have copied your videos to `for_tracking` folder.\n",
    "\n",
    "Then execute this code on your terminal (powersheell) : `.\\track_all_videos.ps1`"
   ]
  },
  {
   "cell_type": "markdown",
   "id": "fdcbb1a3",
   "metadata": {},
   "source": [
    "The first block will produce a .slp file for the video, this file cannot be read alone, and it contains different tracking features. To combine this file with a video and correct possible tracking errors, you can use our GUI \n",
    "# 2. Correcting tracking errors (Red = resident) : sleap-no-GUI kernel"
   ]
  },
  {
   "cell_type": "code",
   "execution_count": null,
   "id": "3f610c23",
   "metadata": {},
   "outputs": [],
   "source": [
    "!python correcting_sleap_errors.py"
   ]
  },
  {
   "cell_type": "markdown",
   "id": "b6dc3205",
   "metadata": {},
   "source": [
    "This block has added tracked videos to [corrected_videos](corrected_videos) folder"
   ]
  },
  {
   "cell_type": "markdown",
   "id": "72d7e2d3",
   "metadata": {
    "slideshow": {
     "slide_type": "fragment"
    }
   },
   "source": [
    "# 3. Add videos to deepEthogram : change kernel to Deg-ipynb or do it directly from the Deg GUi -- Recommended (see [deg documentation](https://github.com/jbohnslav/deepethogram/blob/master/docs/getting_started.md))\n",
    "\n",
    "`conda activate deg_social`\n",
    "\n",
    "`deepethogram`"
   ]
  },
  {
   "cell_type": "code",
   "execution_count": null,
   "id": "b2dff599",
   "metadata": {},
   "outputs": [],
   "source": [
    "import os\n",
    "from deepethogram import projects\n",
    "import pandas as pd\n",
    "\n",
    "def add_videos(project_config_path, carpeta_videos, modo='copy', extensiones=None, csv_filtro_path=None):\n",
    "    if extensiones is None:\n",
    "        extensiones = ['.mp4', '.avi', '.mov', '.mkv', '.wmv']\n",
    "    \n",
    "    # Cargar proyecto\n",
    "    proyecto = projects.load_config(project_config_path)\n",
    "    \n",
    "    # Cargar filtro CSV si se da\n",
    "    nombres_permitidos = None\n",
    "    if csv_filtro_path and os.path.exists(csv_filtro_path):\n",
    "        df_filtro = pd.read_csv(csv_filtro_path)\n",
    "        nombres_permitidos = set(os.path.splitext(v)[0] for v in df_filtro['video_name'].values)\n",
    "        print(f\"[🔎] Usando filtro CSV con {len(nombres_permitidos)} videos permitidos.\")\n",
    "    \n",
    "    # Listar videos válidos\n",
    "    videos_para_añadir = []\n",
    "    for archivo in os.listdir(carpeta_videos):\n",
    "        ruta_completa = os.path.join(carpeta_videos, archivo)\n",
    "        if os.path.isfile(ruta_completa) and os.path.splitext(archivo)[1].lower() in extensiones:\n",
    "            nombre_sin_ext = os.path.splitext(archivo)[0].replace(\" \", \"\")\n",
    "            if nombres_permitidos is None or nombre_sin_ext in nombres_permitidos:\n",
    "                videos_para_añadir.append(ruta_completa)\n",
    "    \n",
    "    print(f\"[🔍] Found {len(videos_para_añadir)} videos to add.\")\n",
    "    \n",
    "    cont = 0\n",
    "    for video_path in videos_para_añadir:\n",
    "        try:\n",
    "            nueva_ruta = projects.add_video_to_project(proyecto, video_path, mode=modo)\n",
    "            cont += 1\n",
    "            print(f\"[+] Añadido: {video_path} → {nueva_ruta} ({cont}/{len(videos_para_añadir)})\")\n",
    "        except Exception as e:\n",
    "            print(f\"[✗] Error añadiendo {video_path}: {e}\")\n",
    "\n",
    "config_path = r\"D:\\SIT_auto\\SIT_deepethogram\\project_config.yaml\"\n",
    "carpeta_videos = r\"corrected_videos\"\n",
    "\n",
    "add_videos(config_path, carpeta_videos=carpeta_videos, modo='copy', csv_filtro_path=None)\n"
   ]
  },
  {
   "cell_type": "markdown",
   "id": "022e9f88",
   "metadata": {},
   "source": [
    "# 4. Infer videos using Deg visual interface : see [DeG documentation](https://github.com/jbohnslav/deepethogram/blob/master/docs/getting_started.md)\n",
    "\n",
    "`conda activate deg_social`\n",
    "\n",
    "`deepethogram`"
   ]
  }
 ],
 "metadata": {
  "kernelspec": {
   "display_name": "sleap_andGUI",
   "language": "python",
   "name": "python3"
  },
  "language_info": {
   "codemirror_mode": {
    "name": "ipython",
    "version": 3
   },
   "file_extension": ".py",
   "mimetype": "text/x-python",
   "name": "python",
   "nbconvert_exporter": "python",
   "pygments_lexer": "ipython3",
   "version": "3.7.12"
  }
 },
 "nbformat": 4,
 "nbformat_minor": 5
}
