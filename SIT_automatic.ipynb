{
 "cells": [
  {
   "cell_type": "markdown",
   "id": "7d78ba34",
   "metadata": {},
   "source": [
    "# SIT automatic behaviour detection pipeline (sleap-no-Gui kernel)\n",
    "## By Santiago Holguin Urbano\n",
    "\n",
    "This pipeline allows to identify different behaviours of two B6 mice. The detected behaviuors are : Contact by host, Contact by visitor, Follow by host, Follow by visitor,Paw control (host), Rearing (host), and Grooming (host).\n",
    "\n",
    "This pipeline can be used with pretrained models on videos at the following format : \n",
    "[image-2.png](attachment:image-2.png)\n",
    "\n",
    "But the different tools used can be adapated for different format and different behaviours. If you're working with CD1 mice or with a very different environment, we suggest you to retrain all the models by following each method documentation. You need at least 600 annotated frames for tracking, and at least 9k annotated frames per beahaviour for behaviuor estimation."
   ]
  },
  {
   "cell_type": "markdown",
   "id": "f14bd2f7",
   "metadata": {},
   "source": [
    "## 1. Tracking videos\n",
    "change the videos folder"
   ]
  },
  {
   "cell_type": "code",
   "execution_count": null,
   "id": "7939471f",
   "metadata": {},
   "outputs": [],
   "source": [
    "import os\n",
    "from pathlib import Path\n",
    "import subprocess\n",
    "import sys\n",
    "\n",
    "# === Configuración de variables ===\n",
    "MODEL_centroid_PATH = r\"D:\\SIT_auto\\SLEAP_track\\models\\250702_114533.centroid.n=765\"\n",
    "MODEL_centered_instance_PATH = r\"D:\\SIT_auto\\SLEAP_track\\models\\250702_132640.centered_instance.n=765\"\n",
    "\n",
    "VIDEOS_FOLDER = Path(r\"D:\\SIT_auto\\for_tracking\")\n",
    "OUTPUT_FOLDER = r\"D:\\SIT_auto\\tracked_videos\"\n",
    "MAX_INSTANCES = 2\n",
    "MAX_TRACKS = 2\n",
    "\n",
    "# Crear carpeta de salida si no existe\n",
    "Path(OUTPUT_FOLDER).mkdir(parents=True, exist_ok=True)\n",
    "\n",
    "# === Procesar cada video individualmente ===\n",
    "for video_file in VIDEOS_FOLDER.glob(\"*.mp4\"):\n",
    "    print(f\"\\nProcesando: {video_file.name}\")\n",
    "\n",
    "    command = (\n",
    "        f'sleap-track '\n",
    "        f'-m \"{MODEL_centroid_PATH}\" '\n",
    "        f'-m \"{MODEL_centered_instance_PATH}\" '\n",
    "        f'--tracking.tracker flowmaxtracks '\n",
    "        f'--tracking.similarity centroid '\n",
    "        f'--tracking.match hungarian '\n",
    "        f'--tracking.max_tracking 1 '\n",
    "        f'--tracking.max_tracks {MAX_TRACKS} '\n",
    "        f'-n {MAX_INSTANCES} '\n",
    "        f'-o \"{OUTPUT_FOLDER}\\{video_file.stem}\" '\n",
    "        f'\"{video_file}\"'\n",
    "    )\n",
    "\n",
    "    print(\"Comando a ejecutar:\")\n",
    "    print(command)\n",
    "\n",
    "    result = subprocess.run(command, shell=True, capture_output=True, text=True)\n",
    "\n",
    "    print(result.stdout)\n",
    "    print(result.stderr)\n"
   ]
  },
  {
   "cell_type": "markdown",
   "id": "fdcbb1a3",
   "metadata": {},
   "source": [
    "The first block will produce a .slp file for the video, this file cannot be read alone, and it contains different tracking features. To combine this file with a video and correct possible tracking errors, you can use our GUI \n",
    "# 2. Correcting tracking errors (Red = resident)"
   ]
  },
  {
   "cell_type": "code",
   "execution_count": null,
   "id": "3f610c23",
   "metadata": {},
   "outputs": [],
   "source": [
    "!conda run -n sleap_andGUI python correcting_sleap_errors.py"
   ]
  },
  {
   "cell_type": "markdown",
   "id": "b6dc3205",
   "metadata": {},
   "source": [
    "This block has added tracked videos to [corrected_videos](corrected_videos) folder\n",
    "# 3. Add videos to deepEthogram (change kernel to Deg-ipynb)"
   ]
  },
  {
   "cell_type": "markdown",
   "id": "72d7e2d3",
   "metadata": {},
   "source": [
    "This block has added tracked videos to \n",
    "# 3. Add videos to deepEthogram : change kernel to Deg-ipynb or do it directly from the Deg GUi -- Recommended (see [deg documentation](https://github.com/jbohnslav/deepethogram/blob/master/docs/getting_started.md))\n",
    "\n",
    "`conda activate deg_social`\n",
    "\n",
    "`deepethogram`"
   ]
  },
  {
   "cell_type": "code",
   "execution_count": null,
   "id": "b2dff599",
   "metadata": {},
   "outputs": [],
   "source": [
    "import os\n",
    "from deepethogram import projects\n",
    "import pandas as pd\n",
    "\n",
    "def add_videos(project_config_path, carpeta_videos, modo='copy', extensiones=None, csv_filtro_path=None):\n",
    "    if extensiones is None:\n",
    "        extensiones = ['.mp4', '.avi', '.mov', '.mkv', '.wmv']\n",
    "    \n",
    "    # Cargar proyecto\n",
    "    proyecto = projects.load_config(project_config_path)\n",
    "    \n",
    "    # Cargar filtro CSV si se da\n",
    "    nombres_permitidos = None\n",
    "    if csv_filtro_path and os.path.exists(csv_filtro_path):\n",
    "        df_filtro = pd.read_csv(csv_filtro_path)\n",
    "        nombres_permitidos = set(os.path.splitext(v)[0] for v in df_filtro['video_name'].values)\n",
    "        print(f\"[🔎] Usando filtro CSV con {len(nombres_permitidos)} videos permitidos.\")\n",
    "    \n",
    "    # Listar videos válidos\n",
    "    videos_para_añadir = []\n",
    "    for archivo in os.listdir(carpeta_videos):\n",
    "        ruta_completa = os.path.join(carpeta_videos, archivo)\n",
    "        if os.path.isfile(ruta_completa) and os.path.splitext(archivo)[1].lower() in extensiones:\n",
    "            nombre_sin_ext = os.path.splitext(archivo)[0].replace(\" \", \"\")\n",
    "            if nombres_permitidos is None or nombre_sin_ext in nombres_permitidos:\n",
    "                videos_para_añadir.append(ruta_completa)\n",
    "    \n",
    "    print(f\"[🔍] Found {len(videos_para_añadir)} videos to add.\")\n",
    "    \n",
    "    cont = 0\n",
    "    for video_path in videos_para_añadir:\n",
    "        try:\n",
    "            nueva_ruta = projects.add_video_to_project(proyecto, video_path, mode=modo)\n",
    "            cont += 1\n",
    "            print(f\"[+] Añadido: {video_path} → {nueva_ruta} ({cont}/{len(videos_para_añadir)})\")\n",
    "        except Exception as e:\n",
    "            print(f\"[✗] Error añadiendo {video_path}: {e}\")\n",
    "\n",
    "config_path = r\"D:\\SIT_auto\\SIT_deepethogram\\project_config.yaml\"\n",
    "carpeta_videos = r\"corrected_videos\"\n",
    "\n",
    "add_videos(config_path, carpeta_videos=carpeta_videos, modo='copy', csv_filtro_path=None)\n"
   ]
  },
  {
   "cell_type": "markdown",
   "id": "022e9f88",
   "metadata": {},
   "source": [
    "# 4. Infer videos using Deg visual interface : see [DeG documentation](https://github.com/jbohnslav/deepethogram/blob/master/docs/getting_started.md)\n",
    "\n",
    "`conda activate deg_social`\n",
    "\n",
    "`deepethogram`"
   ]
  }
 ],
 "metadata": {
  "kernelspec": {
   "display_name": "sleap_andGUI",
   "language": "python",
   "name": "python3"
  },
  "language_info": {
   "codemirror_mode": {
    "name": "ipython",
    "version": 3
   },
   "file_extension": ".py",
   "mimetype": "text/x-python",
   "name": "python",
   "nbconvert_exporter": "python",
   "pygments_lexer": "ipython3",
   "version": "3.7.12"
  }
 },
 "nbformat": 4,
 "nbformat_minor": 5
}
